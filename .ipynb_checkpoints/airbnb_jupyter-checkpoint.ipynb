{
 "cells": [
  {
   "cell_type": "code",
   "execution_count": null,
   "metadata": {},
   "outputs": [],
   "source": [
    "# Dependencies and Setup\n",
    "import pandas as pd\n",
    "\n",
    "# File to Load\n",
    "NYC_data_to_load = \"Resources/NYC_Listings.csv\"\n",
    "SF_data_to_load = \"Resources/SF_Listings.csv\"\n",
    "\n",
    "# Read School and Student Data File and store into Pandas Data Frames\n",
    "NYC_data = pd.read_csv(NYC_data_to_load)\n",
    "SF_data = pd.read_csv(SF_data_to_load)\n",
    "\n",
    "# Combine the data into a single dataset\n",
    "airbnb_data_complete = pd.merge(NYC_data, SF_data, how=\"leftORright\", on=[\"column1\", \"column2\"])"
   ]
  }
 ],
 "metadata": {
  "kernelspec": {
   "display_name": "Python 3",
   "language": "python",
   "name": "python3"
  },
  "language_info": {
   "codemirror_mode": {
    "name": "ipython",
    "version": 3
   },
   "file_extension": ".py",
   "mimetype": "text/x-python",
   "name": "python",
   "nbconvert_exporter": "python",
   "pygments_lexer": "ipython3",
   "version": "3.7.3"
  }
 },
 "nbformat": 4,
 "nbformat_minor": 2
}
